{
 "cells": [
  {
   "cell_type": "code",
   "execution_count": 1,
   "metadata": {},
   "outputs": [
    {
     "name": "stderr",
     "output_type": "stream",
     "text": [
      "Using TensorFlow backend.\n"
     ]
    },
    {
     "name": "stdout",
     "output_type": "stream",
     "text": [
      "Libraries imported\n"
     ]
    }
   ],
   "source": [
    "# --- 0. Import libraries\n",
    "import numpy as np \n",
    "import pandas as pd \n",
    "from matplotlib import pyplot as plt \n",
    "from sklearn.model_selection import train_test_split #! pip install sklearn\n",
    "import keras #!pip install keras\n",
    "from keras.models import Sequential \n",
    "from keras.layers import InputLayer \n",
    "from keras.layers import Dense \n",
    "from keras.layers import Dropout \n",
    "from keras.constraints import maxnorm\n",
    "from sklearn.ensemble import RandomForestClassifier, RandomForestRegressor\n",
    "from sklearn.metrics import classification_report, confusion_matrix, accuracy_score\n",
    "import os\n",
    "print('Libraries imported')"
   ]
  },
  {
   "cell_type": "code",
   "execution_count": 2,
   "metadata": {},
   "outputs": [
    {
     "name": "stdout",
     "output_type": "stream",
     "text": [
      "<class 'pandas.core.frame.DataFrame'>\n",
      "RangeIndex: 10000 entries, 0 to 9999\n",
      "Data columns (total 14 columns):\n",
      " #   Column           Non-Null Count  Dtype  \n",
      "---  ------           --------------  -----  \n",
      " 0   RowNumber        10000 non-null  int64  \n",
      " 1   CustomerId       10000 non-null  int64  \n",
      " 2   Surname          10000 non-null  object \n",
      " 3   CreditScore      10000 non-null  int64  \n",
      " 4   Geography        10000 non-null  object \n",
      " 5   Gender           10000 non-null  object \n",
      " 6   Age              10000 non-null  int64  \n",
      " 7   Tenure           10000 non-null  int64  \n",
      " 8   Balance          10000 non-null  float64\n",
      " 9   NumOfProducts    10000 non-null  int64  \n",
      " 10  HasCrCard        10000 non-null  int64  \n",
      " 11  IsActiveMember   10000 non-null  int64  \n",
      " 12  EstimatedSalary  10000 non-null  float64\n",
      " 13  Exited           10000 non-null  int64  \n",
      "dtypes: float64(2), int64(9), object(3)\n",
      "memory usage: 1.1+ MB\n"
     ]
    }
   ],
   "source": [
    "# --- 1. Load data\n",
    "from IPython.core.interactiveshell import InteractiveShell\n",
    "InteractiveShell.ast_node_interactivity = \"all\"\n",
    "\n",
    "pd.set_option('display.max_columns', None) \n",
    "pd.set_option('display.max_rows', None)\n",
    "\n",
    "# Set workding directory\n",
    "path=\"/Users/sooyoungkim/Desktop/Churn\"\n",
    "os.chdir(path)\n",
    "os.getcwd()\n",
    "\n",
    "# Load csv file\n",
    "df = pd.read_csv(\"Churn_Modelling.csv\")\n",
    "\n",
    "# Data file\n",
    "df.head(5)\n",
    "df.shape\n",
    "df.info()"
   ]
  },
  {
   "cell_type": "code",
   "execution_count": 3,
   "metadata": {},
   "outputs": [
    {
     "data": {
      "text/html": [
       "<div>\n",
       "<style scoped>\n",
       "    .dataframe tbody tr th:only-of-type {\n",
       "        vertical-align: middle;\n",
       "    }\n",
       "\n",
       "    .dataframe tbody tr th {\n",
       "        vertical-align: top;\n",
       "    }\n",
       "\n",
       "    .dataframe thead th {\n",
       "        text-align: right;\n",
       "    }\n",
       "</style>\n",
       "<table border=\"1\" class=\"dataframe\">\n",
       "  <thead>\n",
       "    <tr style=\"text-align: right;\">\n",
       "      <th></th>\n",
       "      <th>Null</th>\n",
       "      <th>Not Null</th>\n",
       "      <th>Percentage</th>\n",
       "    </tr>\n",
       "  </thead>\n",
       "  <tbody>\n",
       "    <tr>\n",
       "      <th>Exited</th>\n",
       "      <td>0</td>\n",
       "      <td>10000</td>\n",
       "      <td>0.0</td>\n",
       "    </tr>\n",
       "    <tr>\n",
       "      <th>EstimatedSalary</th>\n",
       "      <td>0</td>\n",
       "      <td>10000</td>\n",
       "      <td>0.0</td>\n",
       "    </tr>\n",
       "    <tr>\n",
       "      <th>IsActiveMember</th>\n",
       "      <td>0</td>\n",
       "      <td>10000</td>\n",
       "      <td>0.0</td>\n",
       "    </tr>\n",
       "    <tr>\n",
       "      <th>HasCrCard</th>\n",
       "      <td>0</td>\n",
       "      <td>10000</td>\n",
       "      <td>0.0</td>\n",
       "    </tr>\n",
       "    <tr>\n",
       "      <th>NumOfProducts</th>\n",
       "      <td>0</td>\n",
       "      <td>10000</td>\n",
       "      <td>0.0</td>\n",
       "    </tr>\n",
       "    <tr>\n",
       "      <th>Balance</th>\n",
       "      <td>0</td>\n",
       "      <td>10000</td>\n",
       "      <td>0.0</td>\n",
       "    </tr>\n",
       "    <tr>\n",
       "      <th>Tenure</th>\n",
       "      <td>0</td>\n",
       "      <td>10000</td>\n",
       "      <td>0.0</td>\n",
       "    </tr>\n",
       "    <tr>\n",
       "      <th>Age</th>\n",
       "      <td>0</td>\n",
       "      <td>10000</td>\n",
       "      <td>0.0</td>\n",
       "    </tr>\n",
       "    <tr>\n",
       "      <th>Gender</th>\n",
       "      <td>0</td>\n",
       "      <td>10000</td>\n",
       "      <td>0.0</td>\n",
       "    </tr>\n",
       "    <tr>\n",
       "      <th>Geography</th>\n",
       "      <td>0</td>\n",
       "      <td>10000</td>\n",
       "      <td>0.0</td>\n",
       "    </tr>\n",
       "    <tr>\n",
       "      <th>CreditScore</th>\n",
       "      <td>0</td>\n",
       "      <td>10000</td>\n",
       "      <td>0.0</td>\n",
       "    </tr>\n",
       "    <tr>\n",
       "      <th>Surname</th>\n",
       "      <td>0</td>\n",
       "      <td>10000</td>\n",
       "      <td>0.0</td>\n",
       "    </tr>\n",
       "    <tr>\n",
       "      <th>CustomerId</th>\n",
       "      <td>0</td>\n",
       "      <td>10000</td>\n",
       "      <td>0.0</td>\n",
       "    </tr>\n",
       "    <tr>\n",
       "      <th>RowNumber</th>\n",
       "      <td>0</td>\n",
       "      <td>10000</td>\n",
       "      <td>0.0</td>\n",
       "    </tr>\n",
       "  </tbody>\n",
       "</table>\n",
       "</div>"
      ],
      "text/plain": [
       "                 Null  Not Null  Percentage\n",
       "Exited              0     10000         0.0\n",
       "EstimatedSalary     0     10000         0.0\n",
       "IsActiveMember      0     10000         0.0\n",
       "HasCrCard           0     10000         0.0\n",
       "NumOfProducts       0     10000         0.0\n",
       "Balance             0     10000         0.0\n",
       "Tenure              0     10000         0.0\n",
       "Age                 0     10000         0.0\n",
       "Gender              0     10000         0.0\n",
       "Geography           0     10000         0.0\n",
       "CreditScore         0     10000         0.0\n",
       "Surname             0     10000         0.0\n",
       "CustomerId          0     10000         0.0\n",
       "RowNumber           0     10000         0.0"
      ]
     },
     "execution_count": 3,
     "metadata": {},
     "output_type": "execute_result"
    }
   ],
   "source": [
    "# --- 2. Data Preprocessing\n",
    "# looking for null values\n",
    "total_null_values = df.isnull().sum().sort_values(ascending=False) \n",
    "not_null_values = df.notnull().sum().sort_values(ascending=False) \n",
    "null_values_percentage = (df.isnull().sum()/df.notnull().count().sort_values(ascending=False)) * 100\n",
    "\n",
    "# concating the calculated values with the data frame of null values\n",
    "data_missing_values = pd.concat({'Null': total_null_values, 'Not Null': not_null_values, 'Percentage': null_values_percentage}, axis=1)\n",
    "\n",
    "# view the newly formed dataframe\n",
    "data_missing_values"
   ]
  },
  {
   "cell_type": "code",
   "execution_count": 4,
   "metadata": {},
   "outputs": [],
   "source": [
    "df.HasCrCard.replace([0, 1], [\"No\", \"Yes\"], inplace= True)\n",
    "df.IsActiveMember.replace([0, 1], [\"No\", \"Yes\"], inplace= True)\n",
    "df.drop(\"CustomerId\", axis= 1, inplace= True)\n",
    "df.drop(\"RowNumber\", axis= 1, inplace= True)\n",
    "df.drop(\"Surname\", axis= 1, inplace= True)"
   ]
  },
  {
   "cell_type": "code",
   "execution_count": 5,
   "metadata": {},
   "outputs": [
    {
     "data": {
      "text/html": [
       "<div>\n",
       "<style scoped>\n",
       "    .dataframe tbody tr th:only-of-type {\n",
       "        vertical-align: middle;\n",
       "    }\n",
       "\n",
       "    .dataframe tbody tr th {\n",
       "        vertical-align: top;\n",
       "    }\n",
       "\n",
       "    .dataframe thead th {\n",
       "        text-align: right;\n",
       "    }\n",
       "</style>\n",
       "<table border=\"1\" class=\"dataframe\">\n",
       "  <thead>\n",
       "    <tr style=\"text-align: right;\">\n",
       "      <th></th>\n",
       "      <th>CreditScore</th>\n",
       "      <th>Age</th>\n",
       "      <th>Tenure</th>\n",
       "      <th>Balance</th>\n",
       "      <th>NumOfProducts</th>\n",
       "      <th>EstimatedSalary</th>\n",
       "      <th>Exited</th>\n",
       "      <th>Geography_France</th>\n",
       "      <th>Geography_Germany</th>\n",
       "      <th>Geography_Spain</th>\n",
       "      <th>Gender_Female</th>\n",
       "      <th>Gender_Male</th>\n",
       "      <th>HasCrCard_No</th>\n",
       "      <th>HasCrCard_Yes</th>\n",
       "      <th>IsActiveMember_No</th>\n",
       "      <th>IsActiveMember_Yes</th>\n",
       "    </tr>\n",
       "  </thead>\n",
       "  <tbody>\n",
       "    <tr>\n",
       "      <th>0</th>\n",
       "      <td>619</td>\n",
       "      <td>42</td>\n",
       "      <td>2</td>\n",
       "      <td>0.00</td>\n",
       "      <td>1</td>\n",
       "      <td>101348.88</td>\n",
       "      <td>1</td>\n",
       "      <td>1</td>\n",
       "      <td>0</td>\n",
       "      <td>0</td>\n",
       "      <td>1</td>\n",
       "      <td>0</td>\n",
       "      <td>0</td>\n",
       "      <td>1</td>\n",
       "      <td>0</td>\n",
       "      <td>1</td>\n",
       "    </tr>\n",
       "    <tr>\n",
       "      <th>1</th>\n",
       "      <td>608</td>\n",
       "      <td>41</td>\n",
       "      <td>1</td>\n",
       "      <td>83807.86</td>\n",
       "      <td>1</td>\n",
       "      <td>112542.58</td>\n",
       "      <td>0</td>\n",
       "      <td>0</td>\n",
       "      <td>0</td>\n",
       "      <td>1</td>\n",
       "      <td>1</td>\n",
       "      <td>0</td>\n",
       "      <td>1</td>\n",
       "      <td>0</td>\n",
       "      <td>0</td>\n",
       "      <td>1</td>\n",
       "    </tr>\n",
       "    <tr>\n",
       "      <th>2</th>\n",
       "      <td>502</td>\n",
       "      <td>42</td>\n",
       "      <td>8</td>\n",
       "      <td>159660.80</td>\n",
       "      <td>3</td>\n",
       "      <td>113931.57</td>\n",
       "      <td>1</td>\n",
       "      <td>1</td>\n",
       "      <td>0</td>\n",
       "      <td>0</td>\n",
       "      <td>1</td>\n",
       "      <td>0</td>\n",
       "      <td>0</td>\n",
       "      <td>1</td>\n",
       "      <td>1</td>\n",
       "      <td>0</td>\n",
       "    </tr>\n",
       "    <tr>\n",
       "      <th>3</th>\n",
       "      <td>699</td>\n",
       "      <td>39</td>\n",
       "      <td>1</td>\n",
       "      <td>0.00</td>\n",
       "      <td>2</td>\n",
       "      <td>93826.63</td>\n",
       "      <td>0</td>\n",
       "      <td>1</td>\n",
       "      <td>0</td>\n",
       "      <td>0</td>\n",
       "      <td>1</td>\n",
       "      <td>0</td>\n",
       "      <td>1</td>\n",
       "      <td>0</td>\n",
       "      <td>1</td>\n",
       "      <td>0</td>\n",
       "    </tr>\n",
       "    <tr>\n",
       "      <th>4</th>\n",
       "      <td>850</td>\n",
       "      <td>43</td>\n",
       "      <td>2</td>\n",
       "      <td>125510.82</td>\n",
       "      <td>1</td>\n",
       "      <td>79084.10</td>\n",
       "      <td>0</td>\n",
       "      <td>0</td>\n",
       "      <td>0</td>\n",
       "      <td>1</td>\n",
       "      <td>1</td>\n",
       "      <td>0</td>\n",
       "      <td>0</td>\n",
       "      <td>1</td>\n",
       "      <td>0</td>\n",
       "      <td>1</td>\n",
       "    </tr>\n",
       "  </tbody>\n",
       "</table>\n",
       "</div>"
      ],
      "text/plain": [
       "   CreditScore  Age  Tenure    Balance  NumOfProducts  EstimatedSalary  \\\n",
       "0          619   42       2       0.00              1        101348.88   \n",
       "1          608   41       1   83807.86              1        112542.58   \n",
       "2          502   42       8  159660.80              3        113931.57   \n",
       "3          699   39       1       0.00              2         93826.63   \n",
       "4          850   43       2  125510.82              1         79084.10   \n",
       "\n",
       "   Exited  Geography_France  Geography_Germany  Geography_Spain  \\\n",
       "0       1                 1                  0                0   \n",
       "1       0                 0                  0                1   \n",
       "2       1                 1                  0                0   \n",
       "3       0                 1                  0                0   \n",
       "4       0                 0                  0                1   \n",
       "\n",
       "   Gender_Female  Gender_Male  HasCrCard_No  HasCrCard_Yes  IsActiveMember_No  \\\n",
       "0              1            0             0              1                  0   \n",
       "1              1            0             1              0                  0   \n",
       "2              1            0             0              1                  1   \n",
       "3              1            0             1              0                  1   \n",
       "4              1            0             0              1                  0   \n",
       "\n",
       "   IsActiveMember_Yes  \n",
       "0                   1  \n",
       "1                   1  \n",
       "2                   0  \n",
       "3                   0  \n",
       "4                   1  "
      ]
     },
     "execution_count": 5,
     "metadata": {},
     "output_type": "execute_result"
    }
   ],
   "source": [
    "# pd.get_dummies creates a new dataframe which consists of zeros and ones\n",
    "df = pd.get_dummies(df)\n",
    "df.head(5)"
   ]
  },
  {
   "cell_type": "code",
   "execution_count": 6,
   "metadata": {},
   "outputs": [],
   "source": [
    "# split dataset into X and Y\n",
    "X = df.drop(\"Exited\", axis= 1)\n",
    "y = df.Exited"
   ]
  },
  {
   "cell_type": "code",
   "execution_count": 7,
   "metadata": {},
   "outputs": [
    {
     "data": {
      "text/plain": [
       "(10000, 15)"
      ]
     },
     "execution_count": 7,
     "metadata": {},
     "output_type": "execute_result"
    }
   ],
   "source": [
    "X.shape\n"
   ]
  },
  {
   "cell_type": "code",
   "execution_count": 8,
   "metadata": {},
   "outputs": [],
   "source": [
    "# Split testing set with 20%\n",
    "X_train, X_test, y_train, y_test = train_test_split(X, y, test_size= 0.2, random_state= 42)"
   ]
  },
  {
   "cell_type": "code",
   "execution_count": 9,
   "metadata": {},
   "outputs": [
    {
     "data": {
      "text/plain": [
       "RandomForestClassifier(bootstrap=True, class_weight=None, criterion='gini',\n",
       "                       max_depth=20, max_features='auto', max_leaf_nodes=None,\n",
       "                       min_impurity_decrease=0.0, min_impurity_split=None,\n",
       "                       min_samples_leaf=1, min_samples_split=2,\n",
       "                       min_weight_fraction_leaf=0.0, n_estimators=100,\n",
       "                       n_jobs=None, oob_score=False, random_state=42, verbose=0,\n",
       "                       warm_start=False)"
      ]
     },
     "execution_count": 9,
     "metadata": {},
     "output_type": "execute_result"
    },
    {
     "name": "stdout",
     "output_type": "stream",
     "text": [
      "Training set accuracy:  1.000\n",
      "Test set accuracy:  0.863\n"
     ]
    }
   ],
   "source": [
    "# --- 3. Random Forest\n",
    "rf = RandomForestClassifier(n_estimators=100, max_depth=20,\n",
    "                              random_state=42)\n",
    "rf.fit(X_train, y_train) \n",
    "score = rf.score(X_train, y_train)\n",
    "score2 = rf.score(X_test, y_test)\n",
    "print(\"Training set accuracy: \", '%.3f'%(score))\n",
    "print(\"Test set accuracy: \", '%.3f'%(score2))"
   ]
  },
  {
   "cell_type": "code",
   "execution_count": 10,
   "metadata": {},
   "outputs": [],
   "source": [
    "# Predict class for X\n",
    "rf_predictions = rf.predict(X_test)\n",
    "rf_probs = rf.predict_proba(X_test)"
   ]
  },
  {
   "cell_type": "code",
   "execution_count": 11,
   "metadata": {},
   "outputs": [
    {
     "name": "stdout",
     "output_type": "stream",
     "text": [
      "[[1544   63]\n",
      " [ 211  182]]\n",
      "              precision    recall  f1-score   support\n",
      "\n",
      "           0       0.88      0.96      0.92      1607\n",
      "           1       0.74      0.46      0.57       393\n",
      "\n",
      "    accuracy                           0.86      2000\n",
      "   macro avg       0.81      0.71      0.74      2000\n",
      "weighted avg       0.85      0.86      0.85      2000\n",
      "\n",
      "0.863\n"
     ]
    }
   ],
   "source": [
    "# Confusion matrix\n",
    "y_pred = rf.predict(X_test)\n",
    "print(confusion_matrix(y_test,y_pred))\n",
    "print(classification_report(y_test,y_pred))\n",
    "print(accuracy_score(y_test, y_pred))"
   ]
  },
  {
   "cell_type": "code",
   "execution_count": 12,
   "metadata": {},
   "outputs": [
    {
     "data": {
      "text/html": [
       "<div>\n",
       "<style scoped>\n",
       "    .dataframe tbody tr th:only-of-type {\n",
       "        vertical-align: middle;\n",
       "    }\n",
       "\n",
       "    .dataframe tbody tr th {\n",
       "        vertical-align: top;\n",
       "    }\n",
       "\n",
       "    .dataframe thead th {\n",
       "        text-align: right;\n",
       "    }\n",
       "</style>\n",
       "<table border=\"1\" class=\"dataframe\">\n",
       "  <thead>\n",
       "    <tr style=\"text-align: right;\">\n",
       "      <th></th>\n",
       "      <th>feature</th>\n",
       "      <th>importance</th>\n",
       "    </tr>\n",
       "  </thead>\n",
       "  <tbody>\n",
       "    <tr>\n",
       "      <th>1</th>\n",
       "      <td>Age</td>\n",
       "      <td>0.245056</td>\n",
       "    </tr>\n",
       "    <tr>\n",
       "      <th>0</th>\n",
       "      <td>CreditScore</td>\n",
       "      <td>0.142977</td>\n",
       "    </tr>\n",
       "    <tr>\n",
       "      <th>5</th>\n",
       "      <td>EstimatedSalary</td>\n",
       "      <td>0.142856</td>\n",
       "    </tr>\n",
       "    <tr>\n",
       "      <th>3</th>\n",
       "      <td>Balance</td>\n",
       "      <td>0.135909</td>\n",
       "    </tr>\n",
       "    <tr>\n",
       "      <th>4</th>\n",
       "      <td>NumOfProducts</td>\n",
       "      <td>0.128799</td>\n",
       "    </tr>\n",
       "  </tbody>\n",
       "</table>\n",
       "</div>"
      ],
      "text/plain": [
       "           feature  importance\n",
       "1              Age    0.245056\n",
       "0      CreditScore    0.142977\n",
       "5  EstimatedSalary    0.142856\n",
       "3          Balance    0.135909\n",
       "4    NumOfProducts    0.128799"
      ]
     },
     "execution_count": 12,
     "metadata": {},
     "output_type": "execute_result"
    }
   ],
   "source": [
    "fi = pd.DataFrame({'feature': list(X_train.columns),\n",
    "                   'importance': rf.feature_importances_}).\\\n",
    "                    sort_values('importance', ascending = False)\n",
    "fi.head()"
   ]
  },
  {
   "cell_type": "code",
   "execution_count": 13,
   "metadata": {},
   "outputs": [],
   "source": [
    "# --- 4. Neural Network\n",
    "model = Sequential()\n",
    "model.add(Dense(64, input_dim=15, activation='relu', kernel_constraint=maxnorm(3)))\n",
    "model.add(Dropout(rate=0.2))\n",
    "model.add(Dense(8, activation='relu', kernel_constraint=maxnorm(3)))\n",
    "model.add(Dropout(rate=0.2))\n",
    "model.add(Dense(1, activation='sigmoid'))"
   ]
  },
  {
   "cell_type": "code",
   "execution_count": 14,
   "metadata": {},
   "outputs": [],
   "source": [
    "model.compile(loss = \"binary_crossentropy\", optimizer = 'adam', metrics=['accuracy'])"
   ]
  },
  {
   "cell_type": "code",
   "execution_count": 15,
   "metadata": {},
   "outputs": [
    {
     "name": "stdout",
     "output_type": "stream",
     "text": [
      "Epoch 1/40\n",
      "800/800 [==============================] - 2s 2ms/step - loss: 239.1346 - accuracy: 0.7696 - val_loss: 0.5624 - val_accuracy: 0.8035\n",
      "Epoch 2/40\n",
      "800/800 [==============================] - 1s 2ms/step - loss: 4.5234 - accuracy: 0.7905 - val_loss: 0.5113 - val_accuracy: 0.8035\n",
      "Epoch 3/40\n",
      "800/800 [==============================] - 1s 2ms/step - loss: 1.2670 - accuracy: 0.7934 - val_loss: 0.4995 - val_accuracy: 0.8035\n",
      "Epoch 4/40\n",
      "800/800 [==============================] - 1s 2ms/step - loss: 1.3875 - accuracy: 0.7935 - val_loss: 0.4969 - val_accuracy: 0.8035\n",
      "Epoch 5/40\n",
      "800/800 [==============================] - 1s 2ms/step - loss: 0.7725 - accuracy: 0.7931 - val_loss: 0.4962 - val_accuracy: 0.8035\n",
      "Epoch 6/40\n",
      "800/800 [==============================] - 1s 2ms/step - loss: 0.5446 - accuracy: 0.7944 - val_loss: 0.4959 - val_accuracy: 0.8035\n",
      "Epoch 7/40\n",
      "800/800 [==============================] - 1s 2ms/step - loss: 1.0254 - accuracy: 0.7943 - val_loss: 0.4958 - val_accuracy: 0.8035\n",
      "Epoch 8/40\n",
      "800/800 [==============================] - 1s 2ms/step - loss: 1.7993 - accuracy: 0.7939 - val_loss: 0.4957 - val_accuracy: 0.8035\n",
      "Epoch 9/40\n",
      "800/800 [==============================] - 1s 2ms/step - loss: 0.6828 - accuracy: 0.7945 - val_loss: 0.4957 - val_accuracy: 0.8035\n",
      "Epoch 10/40\n",
      "800/800 [==============================] - 1s 2ms/step - loss: 0.5089 - accuracy: 0.7944 - val_loss: 0.4958 - val_accuracy: 0.8035\n",
      "Epoch 11/40\n",
      "800/800 [==============================] - 1s 2ms/step - loss: 0.5080 - accuracy: 0.7945 - val_loss: 0.4958 - val_accuracy: 0.8035\n",
      "Epoch 12/40\n",
      "800/800 [==============================] - 1s 2ms/step - loss: 0.5080 - accuracy: 0.7945 - val_loss: 0.4957 - val_accuracy: 0.8035\n",
      "Epoch 13/40\n",
      "800/800 [==============================] - 2s 2ms/step - loss: 0.8630 - accuracy: 0.7945 - val_loss: 0.4957 - val_accuracy: 0.8035\n",
      "Epoch 14/40\n",
      "800/800 [==============================] - 1s 2ms/step - loss: 0.5080 - accuracy: 0.7945 - val_loss: 0.4958 - val_accuracy: 0.8035\n",
      "Epoch 15/40\n",
      "800/800 [==============================] - 2s 2ms/step - loss: 0.5080 - accuracy: 0.7945 - val_loss: 0.4957 - val_accuracy: 0.8035\n",
      "Epoch 16/40\n",
      "800/800 [==============================] - 2s 2ms/step - loss: 0.5080 - accuracy: 0.7945 - val_loss: 0.4957 - val_accuracy: 0.8035\n",
      "Epoch 17/40\n",
      "800/800 [==============================] - 2s 2ms/step - loss: 0.5080 - accuracy: 0.7945 - val_loss: 0.4958 - val_accuracy: 0.8035\n",
      "Epoch 18/40\n",
      "800/800 [==============================] - 2s 2ms/step - loss: 0.5080 - accuracy: 0.7945 - val_loss: 0.4958 - val_accuracy: 0.8035\n",
      "Epoch 19/40\n",
      "800/800 [==============================] - 2s 2ms/step - loss: 0.5080 - accuracy: 0.7945 - val_loss: 0.4957 - val_accuracy: 0.8035\n",
      "Epoch 20/40\n",
      "800/800 [==============================] - 2s 2ms/step - loss: 0.5080 - accuracy: 0.7945 - val_loss: 0.4958 - val_accuracy: 0.80350s - loss: 0.4995 - accuracy: 0.80 - ETA: 0s - loss: 0\n",
      "Epoch 21/40\n",
      "800/800 [==============================] - 2s 2ms/step - loss: 0.5080 - accuracy: 0.7945 - val_loss: 0.4957 - val_accuracy: 0.8035\n",
      "Epoch 22/40\n",
      "800/800 [==============================] - 2s 2ms/step - loss: 0.5080 - accuracy: 0.7945 - val_loss: 0.4958 - val_accuracy: 0.8035\n",
      "Epoch 23/40\n",
      "800/800 [==============================] - 2s 2ms/step - loss: 0.5080 - accuracy: 0.7945 - val_loss: 0.4958 - val_accuracy: 0.8035\n",
      "Epoch 24/40\n",
      "800/800 [==============================] - 2s 3ms/step - loss: 0.5080 - accuracy: 0.7945 - val_loss: 0.4958 - val_accuracy: 0.8035\n",
      "Epoch 25/40\n",
      "800/800 [==============================] - 2s 2ms/step - loss: 0.5080 - accuracy: 0.7945 - val_loss: 0.4958 - val_accuracy: 0.8035\n",
      "Epoch 26/40\n",
      "800/800 [==============================] - 2s 2ms/step - loss: 0.5080 - accuracy: 0.7945 - val_loss: 0.4958 - val_accuracy: 0.8035\n",
      "Epoch 27/40\n",
      "800/800 [==============================] - 2s 2ms/step - loss: 0.5364 - accuracy: 0.7945 - val_loss: 0.4958 - val_accuracy: 0.8035\n",
      "Epoch 28/40\n",
      "800/800 [==============================] - 2s 2ms/step - loss: 0.5080 - accuracy: 0.7945 - val_loss: 0.4957 - val_accuracy: 0.8035\n",
      "Epoch 29/40\n",
      "800/800 [==============================] - 2s 2ms/step - loss: 0.5544 - accuracy: 0.7945 - val_loss: 0.4958 - val_accuracy: 0.8035\n",
      "Epoch 30/40\n",
      "800/800 [==============================] - 2s 2ms/step - loss: 0.5078 - accuracy: 0.7946 - val_loss: 0.4957 - val_accuracy: 0.8035\n",
      "Epoch 31/40\n",
      "800/800 [==============================] - 2s 2ms/step - loss: 0.5080 - accuracy: 0.7945 - val_loss: 0.4957 - val_accuracy: 0.8035\n",
      "Epoch 32/40\n",
      "800/800 [==============================] - 2s 2ms/step - loss: 0.5080 - accuracy: 0.7945 - val_loss: 0.4958 - val_accuracy: 0.8035\n",
      "Epoch 33/40\n",
      "800/800 [==============================] - 2s 2ms/step - loss: 0.5080 - accuracy: 0.7945 - val_loss: 0.4958 - val_accuracy: 0.8035\n",
      "Epoch 34/40\n",
      "800/800 [==============================] - 2s 2ms/step - loss: 0.5229 - accuracy: 0.7945 - val_loss: 0.4957 - val_accuracy: 0.8035\n",
      "Epoch 35/40\n",
      "800/800 [==============================] - 2s 2ms/step - loss: 0.5080 - accuracy: 0.7945 - val_loss: 0.4957 - val_accuracy: 0.8035\n",
      "Epoch 36/40\n",
      "800/800 [==============================] - 2s 2ms/step - loss: 0.5080 - accuracy: 0.7945 - val_loss: 0.4957 - val_accuracy: 0.8035\n",
      "Epoch 37/40\n",
      "800/800 [==============================] - 2s 2ms/step - loss: 0.5080 - accuracy: 0.7945 - val_loss: 0.4957 - val_accuracy: 0.8035\n",
      "Epoch 38/40\n",
      "800/800 [==============================] - 2s 2ms/step - loss: 0.5080 - accuracy: 0.7945 - val_loss: 0.4958 - val_accuracy: 0.8035\n",
      "Epoch 39/40\n",
      "800/800 [==============================] - 2s 2ms/step - loss: 0.5080 - accuracy: 0.7945 - val_loss: 0.4957 - val_accuracy: 0.8035\n",
      "Epoch 40/40\n",
      "800/800 [==============================] - 2s 2ms/step - loss: 0.5190 - accuracy: 0.7944 - val_loss: 0.4957 - val_accuracy: 0.8035\n"
     ]
    }
   ],
   "source": [
    "history = model.fit(X_train, y_train, validation_data=(X_test, y_test), epochs=40, batch_size=10)"
   ]
  },
  {
   "cell_type": "code",
   "execution_count": 16,
   "metadata": {},
   "outputs": [
    {
     "data": {
      "text/plain": [
       "[<matplotlib.lines.Line2D at 0x14927f5d0>]"
      ]
     },
     "execution_count": 16,
     "metadata": {},
     "output_type": "execute_result"
    },
    {
     "data": {
      "text/plain": [
       "[<matplotlib.lines.Line2D at 0x14927f910>]"
      ]
     },
     "execution_count": 16,
     "metadata": {},
     "output_type": "execute_result"
    },
    {
     "data": {
      "text/plain": [
       "Text(0.5, 1.0, 'model accuracy')"
      ]
     },
     "execution_count": 16,
     "metadata": {},
     "output_type": "execute_result"
    },
    {
     "data": {
      "text/plain": [
       "Text(0, 0.5, 'accuracy')"
      ]
     },
     "execution_count": 16,
     "metadata": {},
     "output_type": "execute_result"
    },
    {
     "data": {
      "text/plain": [
       "Text(0.5, 0, 'epoch')"
      ]
     },
     "execution_count": 16,
     "metadata": {},
     "output_type": "execute_result"
    },
    {
     "data": {
      "text/plain": [
       "<matplotlib.legend.Legend at 0x149ac5b50>"
      ]
     },
     "execution_count": 16,
     "metadata": {},
     "output_type": "execute_result"
    },
    {
     "data": {
      "image/png": "[encoded data removed]",
      "text/plain": [
       "<Figure size 432x288 with 1 Axes>"
      ]
     },
     "metadata": {
      "needs_background": "light"
     },
     "output_type": "display_data"
    }
   ],
   "source": [
    "plt.plot(history.history['accuracy']) \n",
    "plt.plot(history.history['val_accuracy']) \n",
    "plt.title('model accuracy') \n",
    "plt.ylabel('accuracy')\n",
    "plt.xlabel('epoch') \n",
    "plt.legend(['train', 'test'], loc='upper left') \n",
    "plt.show()"
   ]
  }
 ],
 "metadata": {
  "kernelspec": {
   "display_name": "Python 3",
   "language": "python",
   "name": "python3"
  },
  "language_info": {
   "codemirror_mode": {
    "name": "ipython",
    "version": 3
   },
   "file_extension": ".py",
   "mimetype": "text/x-python",
   "name": "python",
   "nbconvert_exporter": "python",
   "pygments_lexer": "ipython3",
   "version": "3.7.4"
  }
 },
 "nbformat": 4,
 "nbformat_minor": 4
}
